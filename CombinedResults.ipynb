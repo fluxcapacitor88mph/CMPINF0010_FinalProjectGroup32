{
 "cells": [
  {
   "cell_type": "markdown",
   "metadata": {},
   "source": [
    "# CMPINF 0010 Final Project - Spring 2024\n",
    "\n",
    "## The Most Navigable Neighborhood in Pittsburgh\n",
    "\n",
    "### Group 32 - Gold 'n Blue\n",
    "### John Lovre (JRL142), Matthew Kindja (MRK161), Zezhong Chen (ZEC20)\n",
    "\n",
    "Metric 1 (Lovre): Number of Parking Meters<br/>\n",
    "dataset: https://data.wprdc.org/dataset/parking-meters-pittsburgh-parking-authority/resource/72fff5c4-5ef2-4437-9e40-e2d999d455ed<br/>\n",
    "The number of parking meters in a neighborhood is a metric used to determine the availability of on-site public parking.\n",
    "\n",
    "Metric 2 (Chen): Bus Stops<br/>\n",
    "dataset: https://data.wprdc.org/dataset/prt-transit-stop-usage/resource/3f40b94b-4ac4-48f1-8c61-8439d2d2f420<br/>\n",
    "Reasonability of public transportation contributes to safety and ease of access.\n",
    "\n",
    "Metric 3 (Kindja): Walkability<br/>\n",
    "dataset: https://data.wprdc.org/dataset/sidewalk-to-street-walkability-ratio/resource/b90ccee1-c0aa-43b9-93e2-8a25e690c393<br/>\n",
    "There is a positive relationship between measures of walkability and life satisfaction/happiness."
   ]
  },
  {
   "cell_type": "markdown",
   "metadata": {},
   "source": [
    "---"
   ]
  },
  {
   "cell_type": "markdown",
   "metadata": {},
   "source": [
    "## Metric 1: Parking Meters"
   ]
  },
  {
   "cell_type": "markdown",
   "metadata": {},
   "source": [
    "### Top 20 listings"
   ]
  },
  {
   "cell_type": "markdown",
   "metadata": {},
   "source": [
    "| Neighborhood | No. of meters |\n",
    "|--------------|---------------|\n",
    "|OAKLAND       |177|\n",
    "|SOUTHSIDE     |102|\n",
    "|DOWNTOWN      |100|\n",
    "|NORTHSIDE     | 92|\n",
    "|BLOOMFIELD     |69|\n",
    "|UPTOWN         |63|\n",
    "|EASTLIB        |58|\n",
    "|SQ.HILL        |57|\n",
    "|SHADYSIDE      |54|\n",
    "|STRIPDIST      |52|\n",
    "|NORTHSHORE     |39|\n",
    "|LAWRENCEV      |30|\n",
    "|BROOKLINE      |22|\n",
    "|MT.WASH        |18|\n",
    "|HILL-DIST-     |10|\n",
    "|CARRICK        |10|\n",
    "|BEECHVIEW|       9|\n",
    "|KNOXVILLE |      7|\n",
    "|WEST END   |     7|\n",
    "|TECHNOLOGY  |    6|"
   ]
  },
  {
   "cell_type": "markdown",
   "metadata": {},
   "source": [
    "### Graph of Data"
   ]
  },
  {
   "cell_type": "markdown",
   "metadata": {},
   "source": [
    "![graph of parking meter rankings](./parking_meters.png)"
   ]
  },
  {
   "cell_type": "markdown",
   "metadata": {},
   "source": [
    "## Result: \n",
    "#### Oakland is home to 177 parking meters, almost twice as many as the next 3 runners up, SouthSide, Downtown, and Northside, making it the most navigable neighborhood based on the availability of on-street public parking."
   ]
  },
  {
   "cell_type": "markdown",
   "metadata": {},
   "source": [
    "#### It would be be interesting to further explore this metric as the ratio of parking meters to either number of residents or square footage of the neighborhood. Not all neighborhoods are the same size or as densely populated so these results may be skewed."
   ]
  },
  {
   "cell_type": "markdown",
   "metadata": {},
   "source": [
    "#### Also, this metric just counts the number of parking meters. It does not take into account public parking lots, paid garages, or any other matter of parking. These factors could also skew the accessibilty of the parking metric."
   ]
  },
  {
   "cell_type": "markdown",
   "metadata": {},
   "source": [
    "___"
   ]
  },
  {
   "cell_type": "markdown",
   "metadata": {},
   "source": [
    "## Metric 2: Bus Stops"
   ]
  },
  {
   "cell_type": "markdown",
   "metadata": {},
   "source": [
    "### "
   ]
  },
  {
   "cell_type": "markdown",
   "metadata": {},
   "source": [
    "### There were so many bus stops, and they are being called on the chart for 100 of times. Thus the graph was huge....."
   ]
  },
  {
   "cell_type": "markdown",
   "metadata": {},
   "source": [
    "![graph of bus_stop](./Screenshot1.png)"
   ]
  },
  {
   "cell_type": "markdown",
   "metadata": {},
   "source": [
    "### It actually look like this:"
   ]
  },
  {
   "cell_type": "markdown",
   "metadata": {},
   "source": [
    "![graph of bus_stop2](./bus_stop-2.png)"
   ]
  },
  {
   "cell_type": "markdown",
   "metadata": {},
   "source": [
    "## Result: \n",
    "### The top 20 most busy stops are all in downtown and northside. Being top on the list is not always a good thing. These top 20 stops should be the worst stops, because it cost more time and take more risk to take a bus. After checking the rest of the data, Oakland is the the most safe region to take public transportations and it has the most reasonable bus lines. Others are either too busy or not enough bus line."
   ]
  },
  {
   "cell_type": "markdown",
   "metadata": {},
   "source": [
    "## Conclusion: \n",
    "### My standard on this is safety and ease of access. based on these two reason, the winner will be the Oakland. It is relatively better than other region."
   ]
  },
  {
   "cell_type": "markdown",
   "metadata": {},
   "source": [
    "___"
   ]
  },
  {
   "cell_type": "markdown",
   "metadata": {},
   "source": [
    "## Metric 3: Walkability"
   ]
  },
  {
   "cell_type": "markdown",
   "metadata": {},
   "source": [
    "### "
   ]
  },
  {
   "cell_type": "markdown",
   "metadata": {},
   "source": [
    "![graph of walkability](./walkability.png)"
   ]
  },
  {
   "cell_type": "markdown",
   "metadata": {},
   "source": [
    "## Result: "
   ]
  },
  {
   "cell_type": "markdown",
   "metadata": {},
   "source": [
    "### Amazing! Hill District is topping the charts with over SIX lengths of sidewalk per length of road! It blows Oakland and Northshore out of the water (which both are still very impressive). Incredibly, Hill District appears twice in the top 20, which again goes to a long way to say how walkable it is."
   ]
  },
  {
   "cell_type": "markdown",
   "metadata": {},
   "source": [
    "___"
   ]
  },
  {
   "cell_type": "markdown",
   "metadata": {},
   "source": [
    "# Conclusion"
   ]
  },
  {
   "cell_type": "markdown",
   "metadata": {},
   "source": [
    "### Most navigable neighborhood overall: 🎉✨ OAKLAND 🎇😨"
   ]
  },
  {
   "cell_type": "markdown",
   "metadata": {},
   "source": [
    "## John's Conclusion"
   ]
  },
  {
   "cell_type": "markdown",
   "metadata": {},
   "source": [
    "#### 1) Oakland contained the most number of parking meters per metric one. "
   ]
  },
  {
   "cell_type": "markdown",
   "metadata": {},
   "source": [
    "#### 2) Per metric two, Downtown and Northshore actually had the most bus traffic, but a closer look showed that Oakland actually had more efficient routes and was less congested.  "
   ]
  },
  {
   "cell_type": "markdown",
   "metadata": {},
   "source": [
    "#### 3) Oakland was the second most walkable neighborhood per metric three…however, if you include the results for South Oakland into this count, it is very close to the top result, Hill District. "
   ]
  },
  {
   "cell_type": "markdown",
   "metadata": {},
   "source": [
    "## Matt's Conclusion"
   ]
  },
  {
   "cell_type": "markdown",
   "metadata": {},
   "source": [
    "I agree with our general findings! Putting my own bias toward Oakland aside as best I can, it does appear to be the most navigable overall! Coming in *second* in walkability ⛅🚶‍ and *first* in number of parking meters 🅿🚗, Oakland also has a very high density of bus stops 🚌. It's clear that the neighborhood sees the importance in effective transportation infrastructure. I don't think the data is deceptive; I find Oakland extremely easy-to-navigate, something of critical importance for the location of a University campus."
   ]
  }
 ],
 "metadata": {
  "kernelspec": {
   "display_name": "Python 3",
   "language": "python",
   "name": "python3"
  },
  "language_info": {
   "codemirror_mode": {
    "name": "ipython",
    "version": 3
   },
   "file_extension": ".py",
   "mimetype": "text/x-python",
   "name": "python",
   "nbconvert_exporter": "python",
   "pygments_lexer": "ipython3",
   "version": "3.8.3"
  }
 },
 "nbformat": 4,
 "nbformat_minor": 4
}
