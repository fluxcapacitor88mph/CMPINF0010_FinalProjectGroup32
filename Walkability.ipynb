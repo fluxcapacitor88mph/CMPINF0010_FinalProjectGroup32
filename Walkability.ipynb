{
 "cells": [
  {
   "cell_type": "markdown",
   "metadata": {},
   "source": [
    "# Final Project | Big Ideas in Computing & Information\n",
    "## Matthew Kindja - Group 32\n",
    "### *Walkability*"
   ]
  },
  {
   "cell_type": "markdown",
   "metadata": {},
   "source": [
    "Link to the WPRDC Dataset: \"Sidewalk to Street Ratio\" https://data.wprdc.org/dataset/sidewalk-to-street-walkability-ratio/resource/b90ccee1-c0aa-43b9-93e2-8a25e690c393"
   ]
  },
  {
   "cell_type": "markdown",
   "metadata": {},
   "source": [
    "## Our first step is to take this dataset and abstract away the useless information!"
   ]
  },
  {
   "cell_type": "code",
   "execution_count": 1,
   "metadata": {},
   "outputs": [],
   "source": [
    "import pandas as pd\n",
    "import numpy as np"
   ]
  },
  {
   "cell_type": "code",
   "execution_count": 4,
   "metadata": {},
   "outputs": [
    {
     "data": {
      "text/html": [
       "<div>\n",
       "<style scoped>\n",
       "    .dataframe tbody tr th:only-of-type {\n",
       "        vertical-align: middle;\n",
       "    }\n",
       "\n",
       "    .dataframe tbody tr th {\n",
       "        vertical-align: top;\n",
       "    }\n",
       "\n",
       "    .dataframe thead th {\n",
       "        text-align: right;\n",
       "    }\n",
       "</style>\n",
       "<table border=\"1\" class=\"dataframe\">\n",
       "  <thead>\n",
       "    <tr style=\"text-align: right;\">\n",
       "      <th></th>\n",
       "      <th>Tract</th>\n",
       "      <th>SidewalkStepLFt</th>\n",
       "      <th>StreetLFt</th>\n",
       "      <th>Ratio</th>\n",
       "    </tr>\n",
       "  </thead>\n",
       "  <tbody>\n",
       "    <tr>\n",
       "      <th>11</th>\n",
       "      <td>42003050900</td>\n",
       "      <td>34060.43485</td>\n",
       "      <td>5125.794855</td>\n",
       "      <td>6.644908</td>\n",
       "    </tr>\n",
       "    <tr>\n",
       "      <th>401</th>\n",
       "      <td>42003982200</td>\n",
       "      <td>51352.28584</td>\n",
       "      <td>12695.022100</td>\n",
       "      <td>4.045073</td>\n",
       "    </tr>\n",
       "    <tr>\n",
       "      <th>399</th>\n",
       "      <td>42003981200</td>\n",
       "      <td>31844.77914</td>\n",
       "      <td>10014.352300</td>\n",
       "      <td>3.179914</td>\n",
       "    </tr>\n",
       "    <tr>\n",
       "      <th>13</th>\n",
       "      <td>42003051100</td>\n",
       "      <td>21923.74413</td>\n",
       "      <td>7265.428071</td>\n",
       "      <td>3.017543</td>\n",
       "    </tr>\n",
       "    <tr>\n",
       "      <th>88</th>\n",
       "      <td>42003260900</td>\n",
       "      <td>58729.59554</td>\n",
       "      <td>21650.722550</td>\n",
       "      <td>2.712593</td>\n",
       "    </tr>\n",
       "    <tr>\n",
       "      <th>12</th>\n",
       "      <td>42003051000</td>\n",
       "      <td>43118.82257</td>\n",
       "      <td>16923.273120</td>\n",
       "      <td>2.547901</td>\n",
       "    </tr>\n",
       "    <tr>\n",
       "      <th>363</th>\n",
       "      <td>42003561200</td>\n",
       "      <td>38381.61857</td>\n",
       "      <td>17396.215870</td>\n",
       "      <td>2.206320</td>\n",
       "    </tr>\n",
       "    <tr>\n",
       "      <th>25</th>\n",
       "      <td>42003080900</td>\n",
       "      <td>38603.78731</td>\n",
       "      <td>17756.642170</td>\n",
       "      <td>2.174048</td>\n",
       "    </tr>\n",
       "    <tr>\n",
       "      <th>43</th>\n",
       "      <td>42003120800</td>\n",
       "      <td>58309.53547</td>\n",
       "      <td>27154.436550</td>\n",
       "      <td>2.147330</td>\n",
       "    </tr>\n",
       "    <tr>\n",
       "      <th>26</th>\n",
       "      <td>42003090100</td>\n",
       "      <td>50888.31723</td>\n",
       "      <td>23840.789700</td>\n",
       "      <td>2.134506</td>\n",
       "    </tr>\n",
       "    <tr>\n",
       "      <th>19</th>\n",
       "      <td>42003070800</td>\n",
       "      <td>42965.28333</td>\n",
       "      <td>20162.828660</td>\n",
       "      <td>2.130915</td>\n",
       "    </tr>\n",
       "    <tr>\n",
       "      <th>374</th>\n",
       "      <td>42003562700</td>\n",
       "      <td>83703.93481</td>\n",
       "      <td>40631.248710</td>\n",
       "      <td>2.060088</td>\n",
       "    </tr>\n",
       "    <tr>\n",
       "      <th>369</th>\n",
       "      <td>42003562000</td>\n",
       "      <td>40285.19938</td>\n",
       "      <td>19649.675090</td>\n",
       "      <td>2.050171</td>\n",
       "    </tr>\n",
       "    <tr>\n",
       "      <th>360</th>\n",
       "      <td>42003560600</td>\n",
       "      <td>40912.77957</td>\n",
       "      <td>19984.145320</td>\n",
       "      <td>2.047262</td>\n",
       "    </tr>\n",
       "    <tr>\n",
       "      <th>45</th>\n",
       "      <td>42003130200</td>\n",
       "      <td>36518.67843</td>\n",
       "      <td>18351.278170</td>\n",
       "      <td>1.989980</td>\n",
       "    </tr>\n",
       "    <tr>\n",
       "      <th>395</th>\n",
       "      <td>42003980800</td>\n",
       "      <td>17130.04356</td>\n",
       "      <td>8716.295902</td>\n",
       "      <td>1.965289</td>\n",
       "    </tr>\n",
       "    <tr>\n",
       "      <th>28</th>\n",
       "      <td>42003090300</td>\n",
       "      <td>28437.33912</td>\n",
       "      <td>14484.979080</td>\n",
       "      <td>1.963230</td>\n",
       "    </tr>\n",
       "    <tr>\n",
       "      <th>263</th>\n",
       "      <td>42003483800</td>\n",
       "      <td>113574.22290</td>\n",
       "      <td>58348.186860</td>\n",
       "      <td>1.946491</td>\n",
       "    </tr>\n",
       "    <tr>\n",
       "      <th>64</th>\n",
       "      <td>42003170200</td>\n",
       "      <td>106907.29040</td>\n",
       "      <td>55235.189060</td>\n",
       "      <td>1.935492</td>\n",
       "    </tr>\n",
       "  </tbody>\n",
       "</table>\n",
       "</div>"
      ],
      "text/plain": [
       "           Tract  SidewalkStepLFt     StreetLFt     Ratio\n",
       "11   42003050900      34060.43485   5125.794855  6.644908\n",
       "401  42003982200      51352.28584  12695.022100  4.045073\n",
       "399  42003981200      31844.77914  10014.352300  3.179914\n",
       "13   42003051100      21923.74413   7265.428071  3.017543\n",
       "88   42003260900      58729.59554  21650.722550  2.712593\n",
       "12   42003051000      43118.82257  16923.273120  2.547901\n",
       "363  42003561200      38381.61857  17396.215870  2.206320\n",
       "25   42003080900      38603.78731  17756.642170  2.174048\n",
       "43   42003120800      58309.53547  27154.436550  2.147330\n",
       "26   42003090100      50888.31723  23840.789700  2.134506\n",
       "19   42003070800      42965.28333  20162.828660  2.130915\n",
       "374  42003562700      83703.93481  40631.248710  2.060088\n",
       "369  42003562000      40285.19938  19649.675090  2.050171\n",
       "360  42003560600      40912.77957  19984.145320  2.047262\n",
       "45   42003130200      36518.67843  18351.278170  1.989980\n",
       "395  42003980800      17130.04356   8716.295902  1.965289\n",
       "28   42003090300      28437.33912  14484.979080  1.963230\n",
       "263  42003483800     113574.22290  58348.186860  1.946491\n",
       "64   42003170200     106907.29040  55235.189060  1.935492"
      ]
     },
     "execution_count": 4,
     "metadata": {},
     "output_type": "execute_result"
    }
   ],
   "source": [
    "with open(\"sidewalkstreetratiotract.csv\") as data:\n",
    "    df = pd.read_csv(data)\n",
    "\n",
    "df = df.iloc[0:402] # Truncate data; trim unncessary rows.\n",
    "df = df.sort_values(by=\"Ratio\", ascending=False) # Sort by the metric we're measuring: Ratio\n",
    "df['Ratio'] = df['Ratio'].astype(float) # Convert Ratio column to floats\n",
    "df['Tract'] = df['Tract'].astype(int) # To remove the decimal from the end, convert our floats into ints!\n",
    "df['Tract'] = df['Tract'].astype(str) # Since pandas likes to truncate big integers, convert the tracts\n",
    "df = df.head(20) # Grab the top 10 tracts.\n",
    "\n",
    "df = df.drop(388) # Drop all rows below! Their ratios are errors\n",
    "df"
   ]
  },
  {
   "cell_type": "markdown",
   "metadata": {},
   "source": [
    "## Nice! We have a list of our data, but we just want the top 20. Once graphed, we can color code bars to help understand the information better!"
   ]
  },
  {
   "cell_type": "code",
   "execution_count": 5,
   "metadata": {},
   "outputs": [
    {
     "data": {
      "image/png": "[encoded data removed]",
      "text/plain": [
       "<Figure size 720x432 with 1 Axes>"
      ]
     },
     "metadata": {
      "needs_background": "dark"
     },
     "output_type": "display_data"
    }
   ],
   "source": [
    "import matplotlib.pyplot as plt\n",
    "\n",
    "tracts = df['Tract'].to_numpy()\n",
    "ratios = df['Ratio'].to_numpy()\n",
    "\n",
    "colors = []\n",
    "for ratio in ratios:\n",
    "  if ratio < 2:\n",
    "    colors.append('#185c8c')\n",
    "  elif ratio >= 3:\n",
    "    colors.append('#278fd9')\n",
    "  else:\n",
    "    colors.append('#2178b5')\n",
    "\n",
    "plt.figure(figsize=(10, 6))  # Adjust figure size as desired\n",
    "plt.bar(tracts, ratios, color=colors)  # Tracts on x-axis, ratios on y-axis\n",
    "plt.xlabel('Tract', color='gold')\n",
    "plt.ylabel('Ratio', color='gold')\n",
    "plt.title('Most Walkable Pittsburgh Tracts', color='gold')\n",
    "plt.xticks(rotation=45, ha='right', color='gold')  # Rotate x-axis labels for better readability\n",
    "plt.tick_params(axis='x', colors='gold')\n",
    "plt.tick_params(axis='y', colors='gold')\n",
    "plt.tight_layout()\n",
    "\n",
    "plt.show()"
   ]
  },
  {
   "cell_type": "markdown",
   "metadata": {},
   "source": [
    "## This data isn't readable! Since there isn't an easy way to merge tract numbers with the neighborhood names, I'll use census.gov to convert tract numbers into neighborhood names!"
   ]
  },
  {
   "cell_type": "code",
   "execution_count": 4,
   "metadata": {},
   "outputs": [
    {
     "data": {
      "image/png": "[encoded data removed]",
      "text/plain": [
       "<Figure size 720x432 with 1 Axes>"
      ]
     },
     "metadata": {
      "needs_background": "dark"
     },
     "output_type": "display_data"
    }
   ],
   "source": [
    "import matplotlib.pyplot as plt\n",
    "\n",
    "tracts = df['Tract'].to_numpy()\n",
    "ratios = df['Ratio'].to_numpy()\n",
    "\n",
    "df.iloc[0, 0] = \"Hill District\" # 42003050900\n",
    "df.iloc[1, 0] = \"Oakland\" # 42003982200\n",
    "df.iloc[2, 0] = \"North Shore\" # 42003981200\n",
    "df.iloc[3, 0] = \"Hill District\"# 42003051100\n",
    "df.iloc[4, 0] = \"North Side\" # 42003260900\n",
    "df.iloc[5, 0] = \"Hill District\" # 42003051000\n",
    "df.iloc[6, 0] = \"Wilkinsburg\" # 42003561200\n",
    "df.iloc[7, 0] = \"Bloomfield\" # 42003080900\n",
    "df.iloc[8, 0] = \"East Liberty\" # 42003120800\n",
    "df.iloc[9, 0] = \"Lawrenceville\" # 42003090100\n",
    "df.iloc[10, 0] = \"Shadyside\" # 42003070800\n",
    "df.iloc[11, 0] = \"North Shore\" # 42003562700\n",
    "df.iloc[12, 0] = \"Oakland\" # 42003562000\n",
    "df.iloc[13, 0] = \"Wilkinsburg\" # 42003560600\n",
    "df.iloc[14, 0] = \"Homewood\" # 42003130200\n",
    "df.iloc[15, 0] = \"South Oakland\" # 42003980800\n",
    "df.iloc[16, 0] = \"Bloomfield\" # 42003090300\n",
    "df.iloc[17, 0] = \"Homestead\" # 42003483800\n",
    "df.iloc[18, 0] = \"South Side Flats\" # 42003170200\n",
    "\n",
    "colors = []\n",
    "for ratio in ratios:\n",
    "  if ratio < 2:\n",
    "    colors.append('#185c8c')\n",
    "  elif ratio >= 3:\n",
    "    colors.append('#278fd9')\n",
    "  else:\n",
    "    colors.append('#2178b5')\n",
    "\n",
    "plt.figure(figsize=(10, 6))  # Adjust figure size as desired\n",
    "plt.bar(tracts, ratios, color=colors)  # Tracts on x-axis, ratios on y-axis\n",
    "plt.xlabel('Tract', color='gold')\n",
    "plt.ylabel('Ratio', color='gold')\n",
    "plt.title('Most Walkable Pittsburgh Tracts', color='gold')\n",
    "plt.xticks(rotation=45, ha='right', color='gold')  # Rotate x-axis labels for better readability\n",
    "plt.tick_params(axis='x', colors='gold')\n",
    "plt.tick_params(axis='y', colors='gold')\n",
    "# plt.tight_layout()\n",
    "\n",
    "plt.show()"
   ]
  },
  {
   "cell_type": "markdown",
   "metadata": {},
   "source": [
    "## Methodology\n",
    "Why *this* metric in particular? Fast, reliable transportation is crucial to city life. Access to the diverse arrangement of amenities found throughout Pittsburgh is imperative to a healthy, active life and participation is one’s community. Effective infrastructure for foot transportation affords citizens a comfortable way to enjoy the outdoors, something especially crucial in densely populated suburbs.\n",
    "\n",
    "## Explanation\n",
    "Hill District takes the clear lead in my dataset, reaching all the way up to a ratio of 6! Oakland isn't trailing too far behind, either. Hill District, Oakland, and North Shore take the lead as the most navigable Pittsburgh neighborhood based on the metric of walkability. I'd love to merge this data with a heatmap of Pittsburgh to get a better visual understanding of walkability around the city. I'd bet there are some clear historic reasons for certain areas of the city being more walkable than others."
   ]
  },
  {
   "cell_type": "code",
   "execution_count": null,
   "metadata": {},
   "outputs": [],
   "source": []
  }
 ],
 "metadata": {
  "kernelspec": {
   "display_name": "Python 3",
   "language": "python",
   "name": "python3"
  },
  "language_info": {
   "codemirror_mode": {
    "name": "ipython",
    "version": 3
   },
   "file_extension": ".py",
   "mimetype": "text/x-python",
   "name": "python",
   "nbconvert_exporter": "python",
   "pygments_lexer": "ipython3",
   "version": "3.8.3"
  }
 },
 "nbformat": 4,
 "nbformat_minor": 4
}
